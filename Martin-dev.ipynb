{
 "cells": [
  {
   "cell_type": "code",
   "execution_count": 33,
   "metadata": {},
   "outputs": [],
   "source": [
    "import sys\n",
    "import os \n",
    "import pickle\n",
    "import argparse\n",
    "import networkx as nx\n",
    "import pandas as pd\n",
    "import numpy as np\n",
    "import itertools\n",
    "import sklearn\n",
    "import torch\n",
    "import datetime\n",
    "import matplotlib, matplotlib.pyplot as plt\n",
    "from torch.autograd import Variable\n",
    "import academictorrents as at\n",
    "import zipfile\n",
    "import json\n",
    "\n",
    "os.chdir(\"gene-graph-conv\")\n",
    "from models.model_wrapper import WrappedModel\n",
    "from data import datasets\n",
    "from data.graph_wrapper import GeneManiaGraph\n",
    "os.chdir(\"..\")"
   ]
  },
  {
   "cell_type": "code",
   "execution_count": null,
   "metadata": {},
   "outputs": [],
   "source": []
  },
  {
   "cell_type": "code",
   "execution_count": 5,
   "metadata": {},
   "outputs": [],
   "source": [
    "from rdkit.Chem import AllChem\n",
    "from rdkit.Chem import Draw\n",
    "from rdkit import Chem\n",
    "from rdkit.Chem import rdmolops\n"
   ]
  },
  {
   "cell_type": "code",
   "execution_count": 29,
   "metadata": {},
   "outputs": [
    {
     "name": "stdout",
     "output_type": "stream",
     "text": [
      "Checking for pieces on disk: |████████████████████████████████████████████████████████████████████████████████████████████████████| 100.0%  finished\n",
      "/Users/martinweiss/code/academic/ICLR-reproducibility-challenge-2019/datastore/250k_rndm_zinc_drugs_clean.zip\n",
      "File Name                                             Modified             Size\n",
      "250k_rndm_zinc_drugs_clean_3.csv               2018-11-15 18:20:02     22606589\n",
      "__MACOSX/                                      2018-11-16 08:01:40            0\n",
      "__MACOSX/._250k_rndm_zinc_drugs_clean_3.csv    2018-11-15 18:20:02          280\n",
      "molecules_train_zinc.json                      2018-11-15 18:28:22    323265893\n",
      "molecules_valid_zinc.json                      2018-11-15 18:29:10     35921095\n",
      "smiles_zinc.pkl                                2018-11-15 18:28:22     10599265\n",
      "valid_idx_qm9.json                             2018-11-15 17:02:20       130846\n",
      "valid_idx_zinc.json                            2018-11-15 17:02:20       187832\n"
     ]
    }
   ],
   "source": [
    "# I uploaded the ZINC dataset to AcademicTorrents. This code should download it for you.\n",
    "path = at.get(\"4776b264ca3c4ed05530124b6319ce0d45aff626\")\n",
    "print(path)\n",
    "zip_ref = zipfile.ZipFile(path)\n",
    "zip_ref.extractall(\"datastore/\")\n",
    "zip_ref.printdir()\n",
    "zip_ref.close()\n"
   ]
  },
  {
   "cell_type": "code",
   "execution_count": null,
   "metadata": {},
   "outputs": [],
   "source": []
  },
  {
   "cell_type": "code",
   "execution_count": 39,
   "metadata": {},
   "outputs": [],
   "source": [
    "with open('datastore/molecules_valid_zinc.json') as f:\n",
    "    data = json.load(f)"
   ]
  },
  {
   "cell_type": "code",
   "execution_count": 44,
   "metadata": {},
   "outputs": [
    {
     "data": {
      "text/plain": [
       "(32, 3)"
      ]
     },
     "execution_count": 44,
     "metadata": {},
     "output_type": "execute_result"
    }
   ],
   "source": []
  },
  {
   "cell_type": "code",
   "execution_count": 46,
   "metadata": {},
   "outputs": [
    {
     "data": {
      "text/plain": [
       "dict_keys(['smiles', 'graph', 'node_features', 'targets'])"
      ]
     },
     "execution_count": 46,
     "metadata": {},
     "output_type": "execute_result"
    }
   ],
   "source": [
    "data[0].keys()"
   ]
  },
  {
   "cell_type": "code",
   "execution_count": 49,
   "metadata": {},
   "outputs": [
    {
     "data": {
      "text/plain": [
       "'N#Cc1ccc(-c2ccc(O[C@@H](C(=O)N3CCCC3)c3ccccc3)cc2)cc1'"
      ]
     },
     "execution_count": 49,
     "metadata": {},
     "output_type": "execute_result"
    }
   ],
   "source": [
    "data[0].get(\"smiles\")"
   ]
  },
  {
   "cell_type": "code",
   "execution_count": 51,
   "metadata": {},
   "outputs": [
    {
     "data": {
      "text/plain": [
       "[[0, 0, 0, 0, 0, 0, 0, 1, 0, 0, 0, 0, 0, 0],\n",
       " [0, 1, 0, 0, 0, 0, 0, 0, 0, 0, 0, 0, 0, 0],\n",
       " [0, 1, 0, 0, 0, 0, 0, 0, 0, 0, 0, 0, 0, 0],\n",
       " [0, 1, 0, 0, 0, 0, 0, 0, 0, 0, 0, 0, 0, 0],\n",
       " [0, 1, 0, 0, 0, 0, 0, 0, 0, 0, 0, 0, 0, 0],\n",
       " [0, 1, 0, 0, 0, 0, 0, 0, 0, 0, 0, 0, 0, 0],\n",
       " [0, 1, 0, 0, 0, 0, 0, 0, 0, 0, 0, 0, 0, 0],\n",
       " [0, 1, 0, 0, 0, 0, 0, 0, 0, 0, 0, 0, 0, 0],\n",
       " [0, 1, 0, 0, 0, 0, 0, 0, 0, 0, 0, 0, 0, 0],\n",
       " [0, 1, 0, 0, 0, 0, 0, 0, 0, 0, 0, 0, 0, 0],\n",
       " [0, 0, 0, 0, 0, 0, 0, 0, 0, 0, 1, 0, 0, 0],\n",
       " [0, 1, 0, 0, 0, 0, 0, 0, 0, 0, 0, 0, 0, 0],\n",
       " [0, 1, 0, 0, 0, 0, 0, 0, 0, 0, 0, 0, 0, 0],\n",
       " [0, 0, 0, 0, 0, 0, 0, 0, 0, 0, 1, 0, 0, 0],\n",
       " [0, 0, 0, 0, 0, 0, 0, 1, 0, 0, 0, 0, 0, 0],\n",
       " [0, 1, 0, 0, 0, 0, 0, 0, 0, 0, 0, 0, 0, 0],\n",
       " [0, 1, 0, 0, 0, 0, 0, 0, 0, 0, 0, 0, 0, 0],\n",
       " [0, 1, 0, 0, 0, 0, 0, 0, 0, 0, 0, 0, 0, 0],\n",
       " [0, 1, 0, 0, 0, 0, 0, 0, 0, 0, 0, 0, 0, 0],\n",
       " [0, 1, 0, 0, 0, 0, 0, 0, 0, 0, 0, 0, 0, 0],\n",
       " [0, 1, 0, 0, 0, 0, 0, 0, 0, 0, 0, 0, 0, 0],\n",
       " [0, 1, 0, 0, 0, 0, 0, 0, 0, 0, 0, 0, 0, 0],\n",
       " [0, 1, 0, 0, 0, 0, 0, 0, 0, 0, 0, 0, 0, 0],\n",
       " [0, 1, 0, 0, 0, 0, 0, 0, 0, 0, 0, 0, 0, 0],\n",
       " [0, 1, 0, 0, 0, 0, 0, 0, 0, 0, 0, 0, 0, 0],\n",
       " [0, 1, 0, 0, 0, 0, 0, 0, 0, 0, 0, 0, 0, 0],\n",
       " [0, 1, 0, 0, 0, 0, 0, 0, 0, 0, 0, 0, 0, 0],\n",
       " [0, 1, 0, 0, 0, 0, 0, 0, 0, 0, 0, 0, 0, 0],\n",
       " [0, 1, 0, 0, 0, 0, 0, 0, 0, 0, 0, 0, 0, 0]]"
      ]
     },
     "execution_count": 51,
     "metadata": {},
     "output_type": "execute_result"
    }
   ],
   "source": [
    "data[0].get(\"node_features\")"
   ]
  },
  {
   "cell_type": "code",
   "execution_count": 52,
   "metadata": {},
   "outputs": [
    {
     "data": {
      "text/plain": [
       "[[0.599681738168]]"
      ]
     },
     "execution_count": 52,
     "metadata": {},
     "output_type": "execute_result"
    }
   ],
   "source": [
    "data[0].get(\"targets\")"
   ]
  },
  {
   "cell_type": "code",
   "execution_count": 54,
   "metadata": {},
   "outputs": [
    {
     "name": "stdout",
     "output_type": "stream",
     "text": [
      "(32, 3)\n"
     ]
    },
    {
     "data": {
      "text/plain": [
       "[[0, 2, 1],\n",
       " [1, 0, 2],\n",
       " [2, 1, 3],\n",
       " [3, 0, 4],\n",
       " [4, 1, 5],\n",
       " [5, 0, 6],\n",
       " [6, 1, 7],\n",
       " [7, 0, 8],\n",
       " [8, 1, 9],\n",
       " [9, 0, 10],\n",
       " [10, 0, 11],\n",
       " [11, 0, 12],\n",
       " [12, 1, 13],\n",
       " [12, 0, 14],\n",
       " [14, 0, 15],\n",
       " [15, 0, 16],\n",
       " [16, 0, 17],\n",
       " [17, 0, 18],\n",
       " [11, 0, 19],\n",
       " [19, 1, 20],\n",
       " [20, 0, 21],\n",
       " [21, 1, 22],\n",
       " [22, 0, 23],\n",
       " [23, 1, 24],\n",
       " [9, 0, 25],\n",
       " [25, 1, 26],\n",
       " [5, 0, 27],\n",
       " [27, 1, 28],\n",
       " [28, 0, 2],\n",
       " [26, 0, 6],\n",
       " [18, 0, 14],\n",
       " [24, 0, 19]]"
      ]
     },
     "execution_count": 54,
     "metadata": {},
     "output_type": "execute_result"
    }
   ],
   "source": [
    "print(np.array(data[0]['graph']).shape)\n",
    "data[0].get(\"graph\")"
   ]
  },
  {
   "cell_type": "code",
   "execution_count": null,
   "metadata": {},
   "outputs": [],
   "source": []
  },
  {
   "cell_type": "code",
   "execution_count": null,
   "metadata": {},
   "outputs": [],
   "source": [
    "# Below is just me sanity checking their pipeline.\n",
    "# the graphs in the json really do correspond to the smiles."
   ]
  },
  {
   "cell_type": "code",
   "execution_count": 67,
   "metadata": {},
   "outputs": [],
   "source": [
    "SMALL_NUMBER = 1e-7\n",
    "LARGE_NUMBER= 1e10\n",
    "\n",
    "geometry_numbers=[3, 4, 5, 6] # triangle, square, pentagen, hexagon\n",
    "\n",
    "# bond mapping\n",
    "bond_dict = {'SINGLE': 0, 'DOUBLE': 1, 'TRIPLE': 2, \"AROMATIC\": 3}\n",
    "number_to_bond= {0: Chem.rdchem.BondType.SINGLE, 1:Chem.rdchem.BondType.DOUBLE, \n",
    "                 2: Chem.rdchem.BondType.TRIPLE, 3:Chem.rdchem.BondType.AROMATIC}\n",
    "\n",
    "def to_graph(smiles):\n",
    "    mol = Chem.MolFromSmiles(smiles)\n",
    "    if mol is None:\n",
    "        return [], []\n",
    "    # Kekulize it\n",
    "    if need_kekulize(mol):\n",
    "        rdmolops.Kekulize(mol)\n",
    "        if mol is None:\n",
    "            return None, None\n",
    "    # remove stereo information, such as inward and outward edges\n",
    "    Chem.RemoveStereochemistry(mol)\n",
    "\n",
    "    edges = []\n",
    "    nodes = []\n",
    "    for bond in mol.GetBonds():\n",
    "        edges.append((bond.GetBeginAtomIdx(), bond_dict[str(bond.GetBondType())], bond.GetEndAtomIdx()))\n",
    "        assert bond_dict[str(bond.GetBondType())] != 3\n",
    "    for atom in mol.GetAtoms():\n",
    "        symbol = atom.GetSymbol()\n",
    "        valence = atom.GetTotalValence()\n",
    "        charge = atom.GetFormalCharge()\n",
    "        atom_str = \"%s%i(%i)\" % (symbol, valence, charge)\n",
    "\n",
    "        if atom_str not in dataset_info()['atom_types']:\n",
    "            print('unrecognized atom type %s' % atom_str)\n",
    "            return [], []\n",
    "\n",
    "        nodes.append(onehot(dataset_info()['atom_types'].index(atom_str), len(dataset_info()['atom_types'])))\n",
    "\n",
    "    return nodes, edges\n",
    "\n",
    "\n",
    "def need_kekulize(mol):\n",
    "    for bond in mol.GetBonds():\n",
    "        if bond_dict[str(bond.GetBondType())] >= 3:\n",
    "            return True\n",
    "    return False\n",
    "\n",
    "\n",
    "def dataset_info():\n",
    "    return { 'atom_types': ['Br1(0)', 'C4(0)', 'Cl1(0)', 'F1(0)', 'H1(0)', 'I1(0)',\n",
    "            'N2(-1)', 'N3(0)', 'N4(1)', 'O1(-1)', 'O2(0)', 'S2(0)','S4(0)', 'S6(0)'],\n",
    "             'maximum_valence': {0: 1, 1: 4, 2: 1, 3: 1, 4: 1, 5:1, 6:2, 7:3, 8:4, 9:1, 10:2, 11:2, 12:4, 13:6, 14:3},\n",
    "             'number_to_atom': {0: 'Br', 1: 'C', 2: 'Cl', 3: 'F', 4: 'H', 5:'I', 6:'N', 7:'N', 8:'N', 9:'O', 10:'O', 11:'S', 12:'S', 13:'S'},\n",
    "             'bucket_sizes': np.array([28,31,33,35,37,38,39,40,41,42,43,44,45,46,47,48,49,50,51,53,55,58,84])\n",
    "           }\n",
    "\n",
    "def onehot(idx, len):\n",
    "    z = [0 for _ in range(len)]\n",
    "    z[idx] = 1\n",
    "    return z\n",
    "\n"
   ]
  },
  {
   "cell_type": "code",
   "execution_count": 68,
   "metadata": {},
   "outputs": [
    {
     "data": {
      "text/plain": [
       "([[0, 0, 0, 0, 0, 0, 0, 1, 0, 0, 0, 0, 0, 0],\n",
       "  [0, 1, 0, 0, 0, 0, 0, 0, 0, 0, 0, 0, 0, 0],\n",
       "  [0, 1, 0, 0, 0, 0, 0, 0, 0, 0, 0, 0, 0, 0],\n",
       "  [0, 1, 0, 0, 0, 0, 0, 0, 0, 0, 0, 0, 0, 0],\n",
       "  [0, 1, 0, 0, 0, 0, 0, 0, 0, 0, 0, 0, 0, 0],\n",
       "  [0, 1, 0, 0, 0, 0, 0, 0, 0, 0, 0, 0, 0, 0],\n",
       "  [0, 1, 0, 0, 0, 0, 0, 0, 0, 0, 0, 0, 0, 0],\n",
       "  [0, 1, 0, 0, 0, 0, 0, 0, 0, 0, 0, 0, 0, 0],\n",
       "  [0, 1, 0, 0, 0, 0, 0, 0, 0, 0, 0, 0, 0, 0],\n",
       "  [0, 1, 0, 0, 0, 0, 0, 0, 0, 0, 0, 0, 0, 0],\n",
       "  [0, 0, 0, 0, 0, 0, 0, 0, 0, 0, 1, 0, 0, 0],\n",
       "  [0, 1, 0, 0, 0, 0, 0, 0, 0, 0, 0, 0, 0, 0],\n",
       "  [0, 1, 0, 0, 0, 0, 0, 0, 0, 0, 0, 0, 0, 0],\n",
       "  [0, 0, 0, 0, 0, 0, 0, 0, 0, 0, 1, 0, 0, 0],\n",
       "  [0, 0, 0, 0, 0, 0, 0, 1, 0, 0, 0, 0, 0, 0],\n",
       "  [0, 1, 0, 0, 0, 0, 0, 0, 0, 0, 0, 0, 0, 0],\n",
       "  [0, 1, 0, 0, 0, 0, 0, 0, 0, 0, 0, 0, 0, 0],\n",
       "  [0, 1, 0, 0, 0, 0, 0, 0, 0, 0, 0, 0, 0, 0],\n",
       "  [0, 1, 0, 0, 0, 0, 0, 0, 0, 0, 0, 0, 0, 0],\n",
       "  [0, 1, 0, 0, 0, 0, 0, 0, 0, 0, 0, 0, 0, 0],\n",
       "  [0, 1, 0, 0, 0, 0, 0, 0, 0, 0, 0, 0, 0, 0],\n",
       "  [0, 1, 0, 0, 0, 0, 0, 0, 0, 0, 0, 0, 0, 0],\n",
       "  [0, 1, 0, 0, 0, 0, 0, 0, 0, 0, 0, 0, 0, 0],\n",
       "  [0, 1, 0, 0, 0, 0, 0, 0, 0, 0, 0, 0, 0, 0],\n",
       "  [0, 1, 0, 0, 0, 0, 0, 0, 0, 0, 0, 0, 0, 0],\n",
       "  [0, 1, 0, 0, 0, 0, 0, 0, 0, 0, 0, 0, 0, 0],\n",
       "  [0, 1, 0, 0, 0, 0, 0, 0, 0, 0, 0, 0, 0, 0],\n",
       "  [0, 1, 0, 0, 0, 0, 0, 0, 0, 0, 0, 0, 0, 0],\n",
       "  [0, 1, 0, 0, 0, 0, 0, 0, 0, 0, 0, 0, 0, 0]],\n",
       " [(0, 2, 1),\n",
       "  (1, 0, 2),\n",
       "  (2, 1, 3),\n",
       "  (3, 0, 4),\n",
       "  (4, 1, 5),\n",
       "  (5, 0, 6),\n",
       "  (6, 1, 7),\n",
       "  (7, 0, 8),\n",
       "  (8, 1, 9),\n",
       "  (9, 0, 10),\n",
       "  (10, 0, 11),\n",
       "  (11, 0, 12),\n",
       "  (12, 1, 13),\n",
       "  (12, 0, 14),\n",
       "  (14, 0, 15),\n",
       "  (15, 0, 16),\n",
       "  (16, 0, 17),\n",
       "  (17, 0, 18),\n",
       "  (11, 0, 19),\n",
       "  (19, 1, 20),\n",
       "  (20, 0, 21),\n",
       "  (21, 1, 22),\n",
       "  (22, 0, 23),\n",
       "  (23, 1, 24),\n",
       "  (9, 0, 25),\n",
       "  (25, 1, 26),\n",
       "  (5, 0, 27),\n",
       "  (27, 1, 28),\n",
       "  (28, 0, 2),\n",
       "  (26, 0, 6),\n",
       "  (18, 0, 14),\n",
       "  (24, 0, 19)])"
      ]
     },
     "execution_count": 68,
     "metadata": {},
     "output_type": "execute_result"
    }
   ],
   "source": [
    "to_graph(data[0].get(\"smiles\"))\n"
   ]
  },
  {
   "cell_type": "code",
   "execution_count": null,
   "metadata": {},
   "outputs": [],
   "source": []
  },
  {
   "cell_type": "code",
   "execution_count": null,
   "metadata": {},
   "outputs": [],
   "source": []
  },
  {
   "cell_type": "code",
   "execution_count": null,
   "metadata": {},
   "outputs": [],
   "source": []
  },
  {
   "cell_type": "code",
   "execution_count": null,
   "metadata": {},
   "outputs": [],
   "source": []
  },
  {
   "cell_type": "code",
   "execution_count": null,
   "metadata": {},
   "outputs": [],
   "source": []
  },
  {
   "cell_type": "code",
   "execution_count": null,
   "metadata": {},
   "outputs": [],
   "source": []
  },
  {
   "cell_type": "code",
   "execution_count": null,
   "metadata": {},
   "outputs": [],
   "source": []
  },
  {
   "cell_type": "code",
   "execution_count": null,
   "metadata": {},
   "outputs": [],
   "source": []
  },
  {
   "cell_type": "code",
   "execution_count": null,
   "metadata": {},
   "outputs": [],
   "source": []
  },
  {
   "cell_type": "code",
   "execution_count": null,
   "metadata": {},
   "outputs": [],
   "source": []
  },
  {
   "cell_type": "code",
   "execution_count": 12,
   "metadata": {},
   "outputs": [],
   "source": []
  },
  {
   "cell_type": "code",
   "execution_count": null,
   "metadata": {},
   "outputs": [],
   "source": []
  },
  {
   "cell_type": "code",
   "execution_count": null,
   "metadata": {},
   "outputs": [],
   "source": []
  },
  {
   "cell_type": "code",
   "execution_count": null,
   "metadata": {},
   "outputs": [],
   "source": []
  },
  {
   "cell_type": "code",
   "execution_count": null,
   "metadata": {},
   "outputs": [],
   "source": []
  },
  {
   "cell_type": "code",
   "execution_count": 6,
   "metadata": {},
   "outputs": [],
   "source": [
    "# Potentially useful functions I yinged from the microsoft code. Currently unused.\n",
    "def dump(file_name, content):\n",
    "    with open(file_name, 'wb') as out_file:        \n",
    "        pickle.dump(content, out_file, pickle.HIGHEST_PROTOCOL)\n",
    "        \n",
    "def load(file_name):\n",
    "    with open(file_name, 'rb') as f:\n",
    "        return pickle.load(f)    \n",
    "# add one edge to adj matrix\n",
    "def add_edge_mat(amat, src, dest, e, considering_edge_type=True):\n",
    "    if considering_edge_type:\n",
    "        amat[e, dest, src] = 1\n",
    "        amat[e, src, dest] = 1\n",
    "    else:\n",
    "        amat[src, dest] = 1\n",
    "        amat[dest, src] = 1 \n",
    "\n",
    "def graph_to_adj_mat(graph, max_n_vertices, num_edge_types, tie_fwd_bkwd=True, considering_edge_type=True):\n",
    "    if considering_edge_type:\n",
    "        amat = np.zeros((num_edge_types, max_n_vertices, max_n_vertices))\n",
    "        for src, e, dest in graph:\n",
    "            add_edge_mat(amat, src, dest, e)\n",
    "    else:\n",
    "        amat = np.zeros((max_n_vertices, max_n_vertices))\n",
    "        for src, e, dest in graph:\n",
    "            add_edge_mat(amat, src, dest, e, considering_edge_type=False)\n",
    "    return amat\n",
    "\n",
    "def check_validity(dataset):       \n",
    "    with open('generated_smiles_%s' % dataset, 'rb') as f:\n",
    "        all_smiles=set(pickle.load(f))\n",
    "    count=0\n",
    "    for smiles in all_smiles:\n",
    "        mol = Chem.MolFromSmiles(smiles)\n",
    "        if mol is not None:\n",
    "            count+=1\n",
    "    return len(all_smiles), count\n",
    "\n"
   ]
  },
  {
   "cell_type": "code",
   "execution_count": null,
   "metadata": {},
   "outputs": [],
   "source": []
  },
  {
   "cell_type": "code",
   "execution_count": null,
   "metadata": {},
   "outputs": [],
   "source": [
    "def check_sascorer(dataset):\n",
    "    with open('generated_smiles_%s' % dataset, 'rb') as f:   \n",
    "        all_smiles=set(pickle.load(f))     \n",
    "    sa_sum=0\n",
    "    total=0\n",
    "    sa_score_per_molecule=[]\n",
    "    for smiles in all_smiles:\n",
    "        new_mol=Chem.MolFromSmiles(smiles)\n",
    "        try:\n",
    "            val = sascorer.calculateScore(new_mol)\n",
    "        except:\n",
    "            continue\n",
    "        sa_sum+=val\n",
    "        sa_score_per_molecule.append(val)\n",
    "        total+=1\n",
    "    return sa_sum/total, sa_score_per_molecule\n",
    "\n",
    "def check_logp(dataset):\n",
    "    with open('generated_smiles_%s' % dataset, 'rb') as f:   \n",
    "        all_smiles=set(pickle.load(f))\n",
    "    logp_sum=0\n",
    "    total=0\n",
    "    logp_score_per_molecule=[]\n",
    "    for smiles in all_smiles:\n",
    "        new_mol=Chem.MolFromSmiles(smiles)\n",
    "        try:\n",
    "            val = Crippen.MolLogP(new_mol)\n",
    "        except:\n",
    "            continue\n",
    "        logp_sum+=val\n",
    "        logp_score_per_molecule.append(val)\n",
    "        total+=1\n",
    "    return logp_sum/total, logp_score_per_molecule\n",
    "\n",
    "def check_qed(dataset):\n",
    "    with open('generated_smiles_%s' % dataset, 'rb') as f:   \n",
    "        all_smiles=set(pickle.load(f))\n",
    "    qed_sum=0\n",
    "    total=0\n",
    "    qed_score_per_molecule=[]\n",
    "    for smiles in all_smiles:\n",
    "        new_mol=Chem.MolFromSmiles(smiles)\n",
    "        try:\n",
    "            val = QED.qed(new_mol)\n",
    "        except:\n",
    "            continue\n",
    "        qed_sum+=val\n",
    "        qed_score_per_molecule.append(val)\n",
    "        total+=1\n",
    "    return qed_sum/total, qed_score_per_molecule\n",
    "\n",
    "def sssr_metric(dataset):\n",
    "    with open('generated_smiles_%s' % dataset, 'rb') as f:   \n",
    "        all_smiles=set(pickle.load(f))\n",
    "    overlapped_molecule=0\n",
    "    for smiles in all_smiles:\n",
    "        new_mol=Chem.MolFromSmiles(smiles)\n",
    "        ssr = Chem.GetSymmSSSR(new_mol)\n",
    "        overlap_flag=False\n",
    "        for idx1 in range(len(ssr)):\n",
    "            for idx2 in range(idx1+1, len(ssr)):\n",
    "                if len(set(ssr[idx1]) & set(ssr[idx2])) > 2:\n",
    "                    overlap_flag=True\n",
    "        if overlap_flag:\n",
    "            overlapped_molecule+=1\n",
    "    return overlapped_molecule/len(all_smiles)\n"
   ]
  },
  {
   "cell_type": "code",
   "execution_count": null,
   "metadata": {},
   "outputs": [],
   "source": [
    "# Implements multilayer perceptron\n",
    "class MLP(object):\n",
    "    def __init__(self, in_size, out_size, hid_sizes, dropout_keep_prob):\n",
    "        self.in_size = in_size\n",
    "        self.out_size = out_size\n",
    "        self.hid_sizes = hid_sizes\n",
    "        self.dropout_keep_prob = dropout_keep_prob\n",
    "        self.params = self.make_network_params()\n",
    "\n",
    "    def make_network_params(self):\n",
    "        dims = [self.in_size] + self.hid_sizes + [self.out_size]\n",
    "        weight_sizes = list(zip(dims[:-1], dims[1:]))\n",
    "        weights = [tf.Variable(self.init_weights(s), name='MLP_W_layer%i' % i)\n",
    "                   for (i, s) in enumerate(weight_sizes)]\n",
    "        biases = [tf.Variable(np.zeros(s[-1]).astype(np.float32), name='MLP_b_layer%i' % i)\n",
    "                  for (i, s) in enumerate(weight_sizes)]\n",
    "\n",
    "        network_params = {\n",
    "            \"weights\": weights,\n",
    "            \"biases\": biases,\n",
    "        }\n",
    "\n",
    "        return network_params\n",
    "\n",
    "    def init_weights(self, shape):\n",
    "        return np.sqrt(6.0 / (shape[-2] + shape[-1])) * (2 * np.random.rand(*shape).astype(np.float32) - 1)\n",
    "\n",
    "    def __call__(self, inputs):\n",
    "        acts = inputs\n",
    "        for W, b in zip(self.params[\"weights\"], self.params[\"biases\"]):\n",
    "            hid = tf.matmul(acts, tf.nn.dropout(W, self.dropout_keep_prob)) + b\n",
    "            acts = tf.nn.relu(hid)\n",
    "        last_hidden = hid\n",
    "        return last_hidden\n",
    "\n",
    "class Graph():\n",
    " \n",
    "    def __init__(self, V, g):\n",
    "        self.V = V\n",
    "        self.graph  = g\n",
    " \n",
    "    def addEdge(self, v, w):\n",
    "        # Add w to v ist.\n",
    "        self.graph[v].append(w) \n",
    "        # Add v to w list.\n",
    "        self.graph[w].append(v) \n",
    " \n",
    "    # A recursive function that uses visited[] \n",
    "    # and parent to detect cycle in subgraph \n",
    "    # reachable from vertex v.\n",
    "    def isCyclicUtil(self, v, visited, parent):\n",
    " \n",
    "        # Mark current node as visited\n",
    "        visited[v] = True\n",
    " \n",
    "        # Recur for all the vertices adjacent \n",
    "        # for this vertex\n",
    "        for i in self.graph[v]:\n",
    "            # If an adjacent is not visited, \n",
    "            # then recur for that adjacent\n",
    "            if visited[i] == False:\n",
    "                if self.isCyclicUtil(i, visited, v) == True:\n",
    "                    return True\n",
    " \n",
    "            # If an adjacent is visited and not \n",
    "            # parent of current vertex, then there \n",
    "            # is a cycle.\n",
    "            elif i != parent:\n",
    "                return True\n",
    " \n",
    "        return False\n",
    " \n",
    "    # Returns true if the graph is a tree, \n",
    "    # else false.\n",
    "    def isTree(self):\n",
    "        # Mark all the vertices as not visited \n",
    "        # and not part of recursion stack\n",
    "        visited = [False] * self.V\n",
    " \n",
    "        # The call to isCyclicUtil serves multiple \n",
    "        # purposes. It returns true if graph reachable \n",
    "        # from vertex 0 is cyclcic. It also marks \n",
    "        # all vertices reachable from 0.\n",
    "        if self.isCyclicUtil(0, visited, -1) == True:\n",
    "            return False\n",
    " \n",
    "        # If we find a vertex which is not reachable\n",
    "        # from 0 (not marked by isCyclicUtil(), \n",
    "        # then we return false\n",
    "        for i in range(self.V):\n",
    "            if visited[i] == False:\n",
    "                return False\n",
    " \n",
    "        return True\n"
   ]
  },
  {
   "cell_type": "code",
   "execution_count": null,
   "metadata": {},
   "outputs": [],
   "source": []
  },
  {
   "cell_type": "code",
   "execution_count": null,
   "metadata": {},
   "outputs": [],
   "source": []
  },
  {
   "cell_type": "code",
   "execution_count": null,
   "metadata": {},
   "outputs": [],
   "source": []
  },
  {
   "cell_type": "code",
   "execution_count": null,
   "metadata": {},
   "outputs": [],
   "source": []
  },
  {
   "cell_type": "code",
   "execution_count": null,
   "metadata": {},
   "outputs": [],
   "source": []
  },
  {
   "cell_type": "code",
   "execution_count": null,
   "metadata": {},
   "outputs": [],
   "source": []
  },
  {
   "cell_type": "code",
   "execution_count": null,
   "metadata": {},
   "outputs": [],
   "source": []
  },
  {
   "cell_type": "code",
   "execution_count": null,
   "metadata": {},
   "outputs": [],
   "source": []
  },
  {
   "cell_type": "code",
   "execution_count": null,
   "metadata": {},
   "outputs": [],
   "source": []
  },
  {
   "cell_type": "code",
   "execution_count": null,
   "metadata": {},
   "outputs": [],
   "source": []
  },
  {
   "cell_type": "code",
   "execution_count": null,
   "metadata": {},
   "outputs": [],
   "source": []
  },
  {
   "cell_type": "code",
   "execution_count": 2,
   "metadata": {},
   "outputs": [],
   "source": []
  },
  {
   "cell_type": "code",
   "execution_count": 5,
   "metadata": {},
   "outputs": [],
   "source": [
    "\n"
   ]
  },
  {
   "cell_type": "code",
   "execution_count": null,
   "metadata": {},
   "outputs": [],
   "source": []
  },
  {
   "cell_type": "code",
   "execution_count": null,
   "metadata": {},
   "outputs": [],
   "source": []
  },
  {
   "cell_type": "code",
   "execution_count": null,
   "metadata": {},
   "outputs": [],
   "source": []
  },
  {
   "cell_type": "code",
   "execution_count": null,
   "metadata": {},
   "outputs": [],
   "source": []
  },
  {
   "cell_type": "code",
   "execution_count": null,
   "metadata": {},
   "outputs": [],
   "source": []
  },
  {
   "cell_type": "code",
   "execution_count": null,
   "metadata": {},
   "outputs": [],
   "source": []
  },
  {
   "cell_type": "code",
   "execution_count": null,
   "metadata": {},
   "outputs": [],
   "source": []
  },
  {
   "cell_type": "code",
   "execution_count": null,
   "metadata": {},
   "outputs": [],
   "source": []
  },
  {
   "cell_type": "code",
   "execution_count": null,
   "metadata": {},
   "outputs": [],
   "source": []
  },
  {
   "cell_type": "code",
   "execution_count": 11,
   "metadata": {},
   "outputs": [
    {
     "data": {
      "text/plain": [
       "<module 'gene-graph-conv.models.graph_layers' from '/Users/martinweiss/code/academic/ICLR-reproducibility-challenge-2019/gene-graph-conv/models/graph_layers.py'>"
      ]
     },
     "execution_count": 11,
     "metadata": {},
     "output_type": "execute_result"
    }
   ],
   "source": [
    "gene_graph_conv.models.graph_layers"
   ]
  },
  {
   "cell_type": "code",
   "execution_count": 12,
   "metadata": {},
   "outputs": [
    {
     "ename": "ImportError",
     "evalue": "No module named 'graph_layers'",
     "output_type": "error",
     "traceback": [
      "\u001b[0;31m---------------------------------------------------------------------------\u001b[0m",
      "\u001b[0;31mImportError\u001b[0m                               Traceback (most recent call last)",
      "\u001b[0;32m<ipython-input-12-782d029412fe>\u001b[0m in \u001b[0;36m<module>\u001b[0;34m()\u001b[0m\n\u001b[0;32m----> 1\u001b[0;31m \u001b[0mgene_graph_conv\u001b[0m \u001b[0;34m=\u001b[0m \u001b[0m__import__\u001b[0m\u001b[0;34m(\u001b[0m\u001b[0;34m\"gene-graph-conv.models.model_layers\"\u001b[0m\u001b[0;34m)\u001b[0m\u001b[0;34m\u001b[0m\u001b[0m\n\u001b[0m",
      "\u001b[0;32m~/code/academic/ICLR-reproducibility-challenge-2019/gene-graph-conv/models/model_layers.py\u001b[0m in \u001b[0;36m<module>\u001b[0;34m()\u001b[0m\n\u001b[1;32m      8\u001b[0m \u001b[0;32mimport\u001b[0m \u001b[0mtorch\u001b[0m\u001b[0;34m.\u001b[0m\u001b[0mnn\u001b[0m\u001b[0;34m.\u001b[0m\u001b[0mfunctional\u001b[0m \u001b[0;32mas\u001b[0m \u001b[0mF\u001b[0m\u001b[0;34m\u001b[0m\u001b[0m\n\u001b[1;32m      9\u001b[0m \u001b[0;34m\u001b[0m\u001b[0m\n\u001b[0;32m---> 10\u001b[0;31m \u001b[0;32mfrom\u001b[0m \u001b[0mgraph_layers\u001b[0m \u001b[0;32mimport\u001b[0m \u001b[0mGCNLayer\u001b[0m\u001b[0;34m,\u001b[0m \u001b[0mSGCLayer\u001b[0m\u001b[0;34m,\u001b[0m \u001b[0mLCGLayer\u001b[0m\u001b[0;34m\u001b[0m\u001b[0m\n\u001b[0m\u001b[1;32m     11\u001b[0m \u001b[0;34m\u001b[0m\u001b[0m\n\u001b[1;32m     12\u001b[0m \u001b[0;31m# For Monitoring\u001b[0m\u001b[0;34m\u001b[0m\u001b[0;34m\u001b[0m\u001b[0m\n",
      "\u001b[0;31mImportError\u001b[0m: No module named 'graph_layers'"
     ]
    }
   ],
   "source": [
    "gene_graph_conv = __import__(\"gene-graph-conv.models.model_layers\")\n"
   ]
  },
  {
   "cell_type": "code",
   "execution_count": null,
   "metadata": {},
   "outputs": [],
   "source": []
  },
  {
   "cell_type": "code",
   "execution_count": null,
   "metadata": {},
   "outputs": [],
   "source": []
  },
  {
   "cell_type": "code",
   "execution_count": null,
   "metadata": {},
   "outputs": [],
   "source": []
  },
  {
   "cell_type": "code",
   "execution_count": null,
   "metadata": {},
   "outputs": [],
   "source": []
  },
  {
   "cell_type": "code",
   "execution_count": 6,
   "metadata": {},
   "outputs": [
    {
     "ename": "AttributeError",
     "evalue": "module 'gene-graph-conv.models' has no attribute 'model_wrapper'",
     "output_type": "error",
     "traceback": [
      "\u001b[0;31m---------------------------------------------------------------------------\u001b[0m",
      "\u001b[0;31mAttributeError\u001b[0m                            Traceback (most recent call last)",
      "\u001b[0;32m<ipython-input-6-ffb95d72a769>\u001b[0m in \u001b[0;36m<module>\u001b[0;34m()\u001b[0m\n\u001b[0;32m----> 1\u001b[0;31m \u001b[0mgene_graph_conv\u001b[0m\u001b[0;34m.\u001b[0m\u001b[0mmodels\u001b[0m\u001b[0;34m.\u001b[0m\u001b[0mmodel_wrapper\u001b[0m\u001b[0;34m\u001b[0m\u001b[0m\n\u001b[0m",
      "\u001b[0;31mAttributeError\u001b[0m: module 'gene-graph-conv.models' has no attribute 'model_wrapper'"
     ]
    }
   ],
   "source": [
    "gene_graph_conv.models.model_wrapper"
   ]
  },
  {
   "cell_type": "code",
   "execution_count": null,
   "metadata": {},
   "outputs": [],
   "source": []
  },
  {
   "cell_type": "code",
   "execution_count": null,
   "metadata": {},
   "outputs": [],
   "source": []
  },
  {
   "cell_type": "code",
   "execution_count": null,
   "metadata": {},
   "outputs": [],
   "source": []
  },
  {
   "cell_type": "code",
   "execution_count": null,
   "metadata": {},
   "outputs": [],
   "source": []
  },
  {
   "cell_type": "code",
   "execution_count": null,
   "metadata": {},
   "outputs": [],
   "source": []
  },
  {
   "cell_type": "code",
   "execution_count": null,
   "metadata": {},
   "outputs": [],
   "source": []
  },
  {
   "cell_type": "code",
   "execution_count": null,
   "metadata": {},
   "outputs": [],
   "source": []
  },
  {
   "cell_type": "code",
   "execution_count": null,
   "metadata": {},
   "outputs": [],
   "source": []
  },
  {
   "cell_type": "code",
   "execution_count": null,
   "metadata": {},
   "outputs": [],
   "source": []
  },
  {
   "cell_type": "code",
   "execution_count": null,
   "metadata": {},
   "outputs": [],
   "source": []
  },
  {
   "cell_type": "code",
   "execution_count": null,
   "metadata": {},
   "outputs": [],
   "source": []
  },
  {
   "cell_type": "code",
   "execution_count": 6,
   "metadata": {},
   "outputs": [
    {
     "data": {
      "text/plain": [
       "<module 'gene-graph-conv.models' from '/Users/martinweiss/code/academic/ICLR-reproducibility-challenge-2019/gene-graph-conv/models/__init__.py'>"
      ]
     },
     "execution_count": 6,
     "metadata": {},
     "output_type": "execute_result"
    }
   ],
   "source": [
    "gene_graph_conv.models"
   ]
  },
  {
   "cell_type": "code",
   "execution_count": null,
   "metadata": {},
   "outputs": [],
   "source": []
  },
  {
   "cell_type": "code",
   "execution_count": null,
   "metadata": {},
   "outputs": [],
   "source": []
  },
  {
   "cell_type": "code",
   "execution_count": null,
   "metadata": {},
   "outputs": [],
   "source": []
  },
  {
   "cell_type": "code",
   "execution_count": null,
   "metadata": {},
   "outputs": [],
   "source": []
  },
  {
   "cell_type": "code",
   "execution_count": null,
   "metadata": {},
   "outputs": [],
   "source": []
  },
  {
   "cell_type": "code",
   "execution_count": null,
   "metadata": {},
   "outputs": [],
   "source": []
  },
  {
   "cell_type": "code",
   "execution_count": null,
   "metadata": {},
   "outputs": [],
   "source": []
  },
  {
   "cell_type": "code",
   "execution_count": null,
   "metadata": {},
   "outputs": [],
   "source": []
  },
  {
   "cell_type": "code",
   "execution_count": null,
   "metadata": {},
   "outputs": [],
   "source": []
  },
  {
   "cell_type": "code",
   "execution_count": null,
   "metadata": {},
   "outputs": [],
   "source": []
  },
  {
   "cell_type": "code",
   "execution_count": null,
   "metadata": {},
   "outputs": [],
   "source": []
  },
  {
   "cell_type": "code",
   "execution_count": null,
   "metadata": {},
   "outputs": [],
   "source": []
  },
  {
   "cell_type": "code",
   "execution_count": null,
   "metadata": {},
   "outputs": [],
   "source": []
  },
  {
   "cell_type": "code",
   "execution_count": null,
   "metadata": {},
   "outputs": [],
   "source": []
  },
  {
   "cell_type": "code",
   "execution_count": 37,
   "metadata": {},
   "outputs": [
    {
     "data": {
      "text/plain": [
       "{'__builtins__': {'ArithmeticError': ArithmeticError,\n",
       "  'AssertionError': AssertionError,\n",
       "  'AttributeError': AttributeError,\n",
       "  'BaseException': BaseException,\n",
       "  'BlockingIOError': BlockingIOError,\n",
       "  'BrokenPipeError': BrokenPipeError,\n",
       "  'BufferError': BufferError,\n",
       "  'BytesWarning': BytesWarning,\n",
       "  'ChildProcessError': ChildProcessError,\n",
       "  'ConnectionAbortedError': ConnectionAbortedError,\n",
       "  'ConnectionError': ConnectionError,\n",
       "  'ConnectionRefusedError': ConnectionRefusedError,\n",
       "  'ConnectionResetError': ConnectionResetError,\n",
       "  'DeprecationWarning': DeprecationWarning,\n",
       "  'EOFError': EOFError,\n",
       "  'Ellipsis': Ellipsis,\n",
       "  'EnvironmentError': OSError,\n",
       "  'Exception': Exception,\n",
       "  'False': False,\n",
       "  'FileExistsError': FileExistsError,\n",
       "  'FileNotFoundError': FileNotFoundError,\n",
       "  'FloatingPointError': FloatingPointError,\n",
       "  'FutureWarning': FutureWarning,\n",
       "  'GeneratorExit': GeneratorExit,\n",
       "  'IOError': OSError,\n",
       "  'ImportError': ImportError,\n",
       "  'ImportWarning': ImportWarning,\n",
       "  'IndentationError': IndentationError,\n",
       "  'IndexError': IndexError,\n",
       "  'InterruptedError': InterruptedError,\n",
       "  'IsADirectoryError': IsADirectoryError,\n",
       "  'KeyError': KeyError,\n",
       "  'KeyboardInterrupt': KeyboardInterrupt,\n",
       "  'LookupError': LookupError,\n",
       "  'MemoryError': MemoryError,\n",
       "  'NameError': NameError,\n",
       "  'None': None,\n",
       "  'NotADirectoryError': NotADirectoryError,\n",
       "  'NotImplemented': NotImplemented,\n",
       "  'NotImplementedError': NotImplementedError,\n",
       "  'OSError': OSError,\n",
       "  'OverflowError': OverflowError,\n",
       "  'PendingDeprecationWarning': PendingDeprecationWarning,\n",
       "  'PermissionError': PermissionError,\n",
       "  'ProcessLookupError': ProcessLookupError,\n",
       "  'RecursionError': RecursionError,\n",
       "  'ReferenceError': ReferenceError,\n",
       "  'ResourceWarning': ResourceWarning,\n",
       "  'RuntimeError': RuntimeError,\n",
       "  'RuntimeWarning': RuntimeWarning,\n",
       "  'StopAsyncIteration': StopAsyncIteration,\n",
       "  'StopIteration': StopIteration,\n",
       "  'SyntaxError': SyntaxError,\n",
       "  'SyntaxWarning': SyntaxWarning,\n",
       "  'SystemError': SystemError,\n",
       "  'SystemExit': SystemExit,\n",
       "  'TabError': TabError,\n",
       "  'TimeoutError': TimeoutError,\n",
       "  'True': True,\n",
       "  'TypeError': TypeError,\n",
       "  'UnboundLocalError': UnboundLocalError,\n",
       "  'UnicodeDecodeError': UnicodeDecodeError,\n",
       "  'UnicodeEncodeError': UnicodeEncodeError,\n",
       "  'UnicodeError': UnicodeError,\n",
       "  'UnicodeTranslateError': UnicodeTranslateError,\n",
       "  'UnicodeWarning': UnicodeWarning,\n",
       "  'UserWarning': UserWarning,\n",
       "  'ValueError': ValueError,\n",
       "  'Warning': Warning,\n",
       "  'ZeroDivisionError': ZeroDivisionError,\n",
       "  '__IPYTHON__': True,\n",
       "  '__build_class__': <function __build_class__>,\n",
       "  '__debug__': True,\n",
       "  '__doc__': \"Built-in functions, exceptions, and other objects.\\n\\nNoteworthy: None is the `nil' object; Ellipsis represents `...' in slices.\",\n",
       "  '__import__': <function __import__>,\n",
       "  '__loader__': _frozen_importlib.BuiltinImporter,\n",
       "  '__name__': 'builtins',\n",
       "  '__package__': '',\n",
       "  '__pybind11_internals_v1__': <capsule object NULL at 0x10b602060>,\n",
       "  '__spec__': ModuleSpec(name='builtins', loader=<class '_frozen_importlib.BuiltinImporter'>),\n",
       "  'abs': <function abs(x, /)>,\n",
       "  'all': <function all(iterable, /)>,\n",
       "  'any': <function any(iterable, /)>,\n",
       "  'ascii': <function ascii(obj, /)>,\n",
       "  'bin': <function bin(number, /)>,\n",
       "  'bool': bool,\n",
       "  'bytearray': bytearray,\n",
       "  'bytes': bytes,\n",
       "  'callable': <function callable(obj, /)>,\n",
       "  'chr': <function chr(i, /)>,\n",
       "  'classmethod': classmethod,\n",
       "  'compile': <function compile(source, filename, mode, flags=0, dont_inherit=False, optimize=-1)>,\n",
       "  'complex': complex,\n",
       "  'copyright': Copyright (c) 2001-2016 Python Software Foundation.\n",
       "  All Rights Reserved.\n",
       "  \n",
       "  Copyright (c) 2000 BeOpen.com.\n",
       "  All Rights Reserved.\n",
       "  \n",
       "  Copyright (c) 1995-2001 Corporation for National Research Initiatives.\n",
       "  All Rights Reserved.\n",
       "  \n",
       "  Copyright (c) 1991-1995 Stichting Mathematisch Centrum, Amsterdam.\n",
       "  All Rights Reserved.,\n",
       "  'credits':     Thanks to CWI, CNRI, BeOpen.com, Zope Corporation and a cast of thousands\n",
       "      for supporting Python development.  See www.python.org for more information.,\n",
       "  'delattr': <function delattr(obj, name, /)>,\n",
       "  'dict': dict,\n",
       "  'dir': <function dir>,\n",
       "  'display': <function IPython.core.display.display(*objs, include=None, exclude=None, metadata=None, transient=None, display_id=None, **kwargs)>,\n",
       "  'divmod': <function divmod(x, y, /)>,\n",
       "  'enumerate': enumerate,\n",
       "  'eval': <function eval(source, globals=None, locals=None, /)>,\n",
       "  'exec': <function exec(source, globals=None, locals=None, /)>,\n",
       "  'filter': filter,\n",
       "  'float': float,\n",
       "  'format': <function format(value, format_spec='', /)>,\n",
       "  'frozenset': frozenset,\n",
       "  'get_ipython': <bound method InteractiveShell.get_ipython of <ipykernel.zmqshell.ZMQInteractiveShell object at 0x107293d68>>,\n",
       "  'getattr': <function getattr>,\n",
       "  'globals': <function globals()>,\n",
       "  'hasattr': <function hasattr(obj, name, /)>,\n",
       "  'hash': <function hash(obj, /)>,\n",
       "  'help': Type help() for interactive help, or help(object) for help about object.,\n",
       "  'hex': <function hex(number, /)>,\n",
       "  'id': <function id(obj, /)>,\n",
       "  'input': <bound method Kernel.raw_input of <ipykernel.ipkernel.IPythonKernel object at 0x107293fd0>>,\n",
       "  'int': int,\n",
       "  'isinstance': <function isinstance(obj, class_or_tuple, /)>,\n",
       "  'issubclass': <function issubclass(cls, class_or_tuple, /)>,\n",
       "  'iter': <function iter>,\n",
       "  'len': <function len(obj, /)>,\n",
       "  'license': Type license() to see the full license text,\n",
       "  'list': list,\n",
       "  'locals': <function locals()>,\n",
       "  'map': map,\n",
       "  'max': <function max>,\n",
       "  'memoryview': memoryview,\n",
       "  'min': <function min>,\n",
       "  'next': <function next>,\n",
       "  'object': object,\n",
       "  'oct': <function oct(number, /)>,\n",
       "  'open': <function io.open(file, mode='r', buffering=-1, encoding=None, errors=None, newline=None, closefd=True, opener=None)>,\n",
       "  'ord': <function ord(c, /)>,\n",
       "  'pow': <function pow(x, y, z=None, /)>,\n",
       "  'print': <function print>,\n",
       "  'property': property,\n",
       "  'range': range,\n",
       "  'repr': <function repr(obj, /)>,\n",
       "  'reversed': reversed,\n",
       "  'round': <function round>,\n",
       "  'set': set,\n",
       "  'setattr': <function setattr(obj, name, value, /)>,\n",
       "  'slice': slice,\n",
       "  'sorted': <function sorted(iterable, key=None, reverse=False)>,\n",
       "  'staticmethod': staticmethod,\n",
       "  'str': str,\n",
       "  'sum': <function sum(iterable, start=0, /)>,\n",
       "  'super': super,\n",
       "  'tuple': tuple,\n",
       "  'type': type,\n",
       "  'vars': <function vars>,\n",
       "  'zip': zip},\n",
       " '__cached__': '/Users/martinweiss/code/academic/ICLR-reproducibility-challenge-2019/gene-graph-conv/__pycache__/__init__.cpython-35.pyc',\n",
       " '__doc__': None,\n",
       " '__file__': '/Users/martinweiss/code/academic/ICLR-reproducibility-challenge-2019/gene-graph-conv/__init__.py',\n",
       " '__loader__': <_frozen_importlib_external.SourceFileLoader at 0x10f9384a8>,\n",
       " '__name__': 'gene-graph-conv',\n",
       " '__package__': 'gene-graph-conv',\n",
       " '__path__': ['/Users/martinweiss/code/academic/ICLR-reproducibility-challenge-2019/gene-graph-conv'],\n",
       " '__spec__': ModuleSpec(name='gene-graph-conv', loader=<_frozen_importlib_external.SourceFileLoader object at 0x10f9384a8>, origin='/Users/martinweiss/code/academic/ICLR-reproducibility-challenge-2019/gene-graph-conv/__init__.py', submodule_search_locations=['/Users/martinweiss/code/academic/ICLR-reproducibility-challenge-2019/gene-graph-conv']),\n",
       " 'models': <module 'gene-graph-conv.models' from '/Users/martinweiss/code/academic/ICLR-reproducibility-challenge-2019/gene-graph-conv/models/__init__.py'>}"
      ]
     },
     "execution_count": 37,
     "metadata": {},
     "output_type": "execute_result"
    }
   ],
   "source": [
    "gene_graph_conv.__dict__"
   ]
  },
  {
   "cell_type": "code",
   "execution_count": null,
   "metadata": {},
   "outputs": [],
   "source": []
  },
  {
   "cell_type": "code",
   "execution_count": null,
   "metadata": {},
   "outputs": [],
   "source": []
  },
  {
   "cell_type": "code",
   "execution_count": null,
   "metadata": {},
   "outputs": [],
   "source": []
  },
  {
   "cell_type": "code",
   "execution_count": null,
   "metadata": {},
   "outputs": [],
   "source": []
  },
  {
   "cell_type": "code",
   "execution_count": null,
   "metadata": {},
   "outputs": [],
   "source": []
  },
  {
   "cell_type": "code",
   "execution_count": null,
   "metadata": {},
   "outputs": [],
   "source": []
  },
  {
   "cell_type": "code",
   "execution_count": 31,
   "metadata": {},
   "outputs": [
    {
     "data": {
      "text/plain": [
       "gene-graph-conv.models.model_wrapper.WrappedModel"
      ]
     },
     "execution_count": 31,
     "metadata": {},
     "output_type": "execute_result"
    }
   ],
   "source": []
  },
  {
   "cell_type": "code",
   "execution_count": null,
   "metadata": {},
   "outputs": [],
   "source": []
  },
  {
   "cell_type": "code",
   "execution_count": null,
   "metadata": {},
   "outputs": [],
   "source": []
  },
  {
   "cell_type": "code",
   "execution_count": null,
   "metadata": {},
   "outputs": [],
   "source": []
  },
  {
   "cell_type": "code",
   "execution_count": null,
   "metadata": {},
   "outputs": [],
   "source": []
  },
  {
   "cell_type": "code",
   "execution_count": null,
   "metadata": {},
   "outputs": [],
   "source": []
  },
  {
   "cell_type": "code",
   "execution_count": null,
   "metadata": {},
   "outputs": [],
   "source": []
  },
  {
   "cell_type": "code",
   "execution_count": null,
   "metadata": {},
   "outputs": [],
   "source": []
  },
  {
   "cell_type": "code",
   "execution_count": null,
   "metadata": {},
   "outputs": [],
   "source": []
  },
  {
   "cell_type": "code",
   "execution_count": null,
   "metadata": {},
   "outputs": [],
   "source": []
  },
  {
   "cell_type": "code",
   "execution_count": null,
   "metadata": {},
   "outputs": [],
   "source": []
  },
  {
   "cell_type": "code",
   "execution_count": null,
   "metadata": {},
   "outputs": [],
   "source": []
  },
  {
   "cell_type": "code",
   "execution_count": null,
   "metadata": {},
   "outputs": [],
   "source": []
  },
  {
   "cell_type": "code",
   "execution_count": null,
   "metadata": {},
   "outputs": [],
   "source": []
  },
  {
   "cell_type": "code",
   "execution_count": null,
   "metadata": {},
   "outputs": [],
   "source": []
  },
  {
   "cell_type": "code",
   "execution_count": null,
   "metadata": {},
   "outputs": [],
   "source": []
  },
  {
   "cell_type": "code",
   "execution_count": null,
   "metadata": {},
   "outputs": [],
   "source": []
  },
  {
   "cell_type": "code",
   "execution_count": null,
   "metadata": {},
   "outputs": [],
   "source": []
  },
  {
   "cell_type": "code",
   "execution_count": null,
   "metadata": {},
   "outputs": [],
   "source": []
  },
  {
   "cell_type": "code",
   "execution_count": null,
   "metadata": {},
   "outputs": [],
   "source": []
  },
  {
   "cell_type": "code",
   "execution_count": 8,
   "metadata": {},
   "outputs": [],
   "source": []
  },
  {
   "cell_type": "code",
   "execution_count": null,
   "metadata": {},
   "outputs": [],
   "source": []
  },
  {
   "cell_type": "code",
   "execution_count": null,
   "metadata": {},
   "outputs": [],
   "source": [
    "dataset = datasets.TCGADataset()\n",
    "dataset.df = dataset.df - dataset.df.mean(axis=0)\n",
    "label_df = dataset.df.where(dataset.df > 0).notnull().astype(\"int\")\n"
   ]
  },
  {
   "cell_type": "code",
   "execution_count": null,
   "metadata": {},
   "outputs": [],
   "source": []
  }
 ],
 "metadata": {
  "kernelspec": {
   "display_name": "Python [default]",
   "language": "python",
   "name": "python3"
  },
  "language_info": {
   "codemirror_mode": {
    "name": "ipython",
    "version": 3
   },
   "file_extension": ".py",
   "mimetype": "text/x-python",
   "name": "python",
   "nbconvert_exporter": "python",
   "pygments_lexer": "ipython3",
   "version": "3.5.6"
  }
 },
 "nbformat": 4,
 "nbformat_minor": 2
}
